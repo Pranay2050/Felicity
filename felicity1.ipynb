{
 "cells": [
  {
   "cell_type": "code",
   "execution_count": 1,
   "metadata": {},
   "outputs": [],
   "source": [
    "import run_apps\n",
    "import wson_assistant\n",
    "import speech\n",
    "import youtube\n",
    "import spotify\n",
    "import open_directories\n",
    "from ibm_watson import AssistantV1\n",
    "from ibm_cloud_sdk_core.authenticators import IAMAuthenticator\n",
    "\n",
    "def initialize_assistant():\n",
    "    authenticator = IAMAuthenticator('ElOVnbZ2oF0gCU8IVGtDdwvT1UAg_5jBAC6dSUVL5De0')\n",
    "    return AssistantV1(\n",
    "        version='2018-07-10',\n",
    "        authenticator=authenticator)\n",
    "    assistant.set_service_url('https://api.eu-gb.assistant.watson.cloud.ibm.com')\n",
    "    assistant.set_http_config({'timeout': 100})\n",
    "\n",
    "def initialize_felicity():\n",
    "    app_dict = run_apps.initialize_app_dict()\n",
    "    return app_dict\n",
    "\n",
    "def process_query(app_dict):\n",
    "    \n",
    "    query = speech.get_speech()\n",
    "    assistant_response = wson_assistant.initialize_assistant(query)\n",
    "    #print(assistant_response)\n",
    "    if \"|\" not in assistant_response:\n",
    "        print(\"I could not understand you...please try again!!\")\n",
    "        return\n",
    "    response = assistant_response.split(\"|\")\n",
    "    #print(response)\n",
    "    if response[0] == \"play\":\n",
    "        \n",
    "        if len(response) == 2:\n",
    "            print(\"Playing your request on Youtube\")\n",
    "            youtube.play_on_youtube(response[1])\n",
    "            \n",
    "        elif len(response) == 3:\n",
    "            if response[2] == \"youtube\":\n",
    "                print(\"Playing\",response[1], \"on Youtube\")\n",
    "                youtube.play_on_youtube(response[1])\n",
    "\n",
    "            elif response[2]== \"spotify\":\n",
    "                print(\"Playing\",response[1], \"on Spotify\")\n",
    "                spotify.play_on_spotify(response[1])\n",
    "                \n",
    "            else:\n",
    "                print(\"Playing\",response[1], \"on Youtube\")\n",
    "                youtube.play_on_youtube(response[1])\n",
    "                \n",
    "        else:\n",
    "            print(\"Could not decide what to play from the data...Please try again!!!\")\n",
    "                \n",
    "    elif response[0] == \"run\":\n",
    "        run_apps.run_app(response[1], app_dict)\n",
    "        \n",
    "    elif response[0] == \"open\":\n",
    "        open_directories.open_child(response[1])\n"
   ]
  },
  {
   "cell_type": "code",
   "execution_count": 2,
   "metadata": {},
   "outputs": [],
   "source": [
    "app_dict = initialize_felicity()"
   ]
  },
  {
   "cell_type": "code",
   "execution_count": 12,
   "metadata": {},
   "outputs": [
    {
     "name": "stdout",
     "output_type": "stream",
     "text": [
      "Say something!\n",
      "You Said : open spark\n"
     ]
    }
   ],
   "source": [
    "process_query(app_dict)"
   ]
  },
  {
   "cell_type": "code",
   "execution_count": 2,
   "metadata": {},
   "outputs": [],
   "source": []
  },
  {
   "cell_type": "code",
   "execution_count": null,
   "metadata": {},
   "outputs": [],
   "source": []
  }
 ],
 "metadata": {
  "kernelspec": {
   "display_name": "Python 3",
   "language": "python",
   "name": "python3"
  },
  "language_info": {
   "codemirror_mode": {
    "name": "ipython",
    "version": 3
   },
   "file_extension": ".py",
   "mimetype": "text/x-python",
   "name": "python",
   "nbconvert_exporter": "python",
   "pygments_lexer": "ipython3",
   "version": "3.6.12"
  }
 },
 "nbformat": 4,
 "nbformat_minor": 4
}
