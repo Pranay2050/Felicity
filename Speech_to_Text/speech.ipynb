{
 "cells": [
  {
   "cell_type": "code",
   "execution_count": 2,
   "metadata": {},
   "outputs": [],
   "source": [
    "import speech_recognition as sr\n",
    "\n",
    "def get_speech():\n",
    "    r = sr.Recognizer()\n",
    "    with sr.Microphone() as source:\n",
    "        print(\"Say something!\")\n",
    "        audio = r.listen(source)\n",
    "\n",
    "\n",
    "    HOUNDIFY_CLIENT_ID = \"j0gQ6BIPX3xpFCu_KPDkHg==\"  # Houndify client IDs are Base64-encoded strings\n",
    "    HOUNDIFY_CLIENT_KEY = \"h5miDvCssFzZIEDt0VZ3CQqojh6xuK0qRmkL0YKugU548iAkRlqB7S6EJ7_e3eGW9F5xDtH_-HWjr_Y7l96UrQ==\"  # Houndify client keys are Base64-encoded strings\n",
    "    try:\n",
    "        recog = r.recognize_houndify(audio, client_id=HOUNDIFY_CLIENT_ID, client_key=HOUNDIFY_CLIENT_KEY)\n",
    "        print(\"You Said :\",recog)\n",
    "        return (recog)\n",
    "    except sr.UnknownValueError:\n",
    "        print(\"Houndify could not understand audio\")\n",
    "        return (\"Houndify could not understand audio\")\n",
    "    except sr.RequestError as e:\n",
    "        print(\"Could not request results from Houndify service; {0}\".format(e))\n",
    "        return(\"Could not request results from Houndify service; {0}\".format(e))\n"
   ]
  },
  {
   "cell_type": "code",
   "execution_count": 5,
   "metadata": {},
   "outputs": [
    {
     "name": "stdout",
     "output_type": "stream",
     "text": [
      "Say something!\n",
      "You Said : hello\n"
     ]
    },
    {
     "data": {
      "text/plain": [
       "'hello'"
      ]
     },
     "execution_count": 5,
     "metadata": {},
     "output_type": "execute_result"
    }
   ],
   "source": [
    "get_speech()"
   ]
  },
  {
   "cell_type": "code",
   "execution_count": null,
   "metadata": {},
   "outputs": [],
   "source": []
  }
 ],
 "metadata": {
  "kernelspec": {
   "display_name": "Python 3",
   "language": "python",
   "name": "python3"
  },
  "language_info": {
   "codemirror_mode": {
    "name": "ipython",
    "version": 3
   },
   "file_extension": ".py",
   "mimetype": "text/x-python",
   "name": "python",
   "nbconvert_exporter": "python",
   "pygments_lexer": "ipython3",
   "version": "3.6.12"
  }
 },
 "nbformat": 4,
 "nbformat_minor": 4
}
