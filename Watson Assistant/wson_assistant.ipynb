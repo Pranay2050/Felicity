{
 "cells": [
  {
   "cell_type": "code",
   "execution_count": 15,
   "metadata": {},
   "outputs": [],
   "source": [
    "from ibm_watson import AssistantV1\n",
    "from ibm_cloud_sdk_core.authenticators import IAMAuthenticator\n",
    "\n",
    "def initialize_assistant(string):\n",
    "    authenticator = IAMAuthenticator('ElOVnbZ2oF0gCU8IVGtDdwvT1UAg_5jBAC6dSUVL5De0')\n",
    "    assistant = AssistantV1(\n",
    "        version='2018-07-10',\n",
    "        authenticator=authenticator)\n",
    "    assistant.set_service_url('https://api.eu-gb.assistant.watson.cloud.ibm.com')\n",
    "    assistant.set_http_config({'timeout': 100})\n",
    "    \n",
    "    response = assistant.message(workspace_id='3f9677d5-cadf-4856-81be-36173e8d5eeb', input={\n",
    "        'text': string}).get_result()\n",
    "    return(response[\"output\"][\"text\"][0])"
   ]
  },
  {
   "cell_type": "code",
   "execution_count": 16,
   "metadata": {},
   "outputs": [
    {
     "data": {
      "text/plain": [
       "\"I didn't understand. You can try rephrasing.\""
      ]
     },
     "execution_count": 16,
     "metadata": {},
     "output_type": "execute_result"
    }
   ],
   "source": [
    "initialize_assistant(\"hello\")"
   ]
  },
  {
   "cell_type": "code",
   "execution_count": null,
   "metadata": {},
   "outputs": [],
   "source": []
  }
 ],
 "metadata": {
  "kernelspec": {
   "display_name": "Python 3",
   "language": "python",
   "name": "python3"
  },
  "language_info": {
   "codemirror_mode": {
    "name": "ipython",
    "version": 3
   },
   "file_extension": ".py",
   "mimetype": "text/x-python",
   "name": "python",
   "nbconvert_exporter": "python",
   "pygments_lexer": "ipython3",
   "version": "3.6.12"
  }
 },
 "nbformat": 4,
 "nbformat_minor": 4
}
