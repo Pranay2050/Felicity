{
 "cells": [
  {
   "cell_type": "code",
   "execution_count": 3,
   "metadata": {},
   "outputs": [],
   "source": [
    "import pvporcupine\n",
    "import speech_recognition as sr\n",
    "\n",
    "\n",
    "handle = pvporcupine.create(keyword_paths=['Hey_Felicity.ppn'])"
   ]
  },
  {
   "cell_type": "code",
   "execution_count": 7,
   "metadata": {},
   "outputs": [
    {
     "ename": "TypeError",
     "evalue": "object of type 'NoneType' has no len()",
     "output_type": "error",
     "traceback": [
      "\u001b[1;31m---------------------------------------------------------------------------\u001b[0m",
      "\u001b[1;31mTypeError\u001b[0m                                 Traceback (most recent call last)",
      "\u001b[1;32m<ipython-input-7-e4dfc5abdfd7>\u001b[0m in \u001b[0;36m<module>\u001b[1;34m\u001b[0m\n\u001b[0;32m      5\u001b[0m \u001b[1;33m\u001b[0m\u001b[0m\n\u001b[0;32m      6\u001b[0m \u001b[1;32mwhile\u001b[0m \u001b[1;32mTrue\u001b[0m\u001b[1;33m:\u001b[0m\u001b[1;33m\u001b[0m\u001b[1;33m\u001b[0m\u001b[0m\n\u001b[1;32m----> 7\u001b[1;33m     \u001b[0mkeyword_index\u001b[0m \u001b[1;33m=\u001b[0m \u001b[0mhandle\u001b[0m\u001b[1;33m.\u001b[0m\u001b[0mprocess\u001b[0m\u001b[1;33m(\u001b[0m\u001b[0mget_next_audio_frame\u001b[0m\u001b[1;33m(\u001b[0m\u001b[1;33m)\u001b[0m\u001b[1;33m)\u001b[0m\u001b[1;33m\u001b[0m\u001b[1;33m\u001b[0m\u001b[0m\n\u001b[0m\u001b[0;32m      8\u001b[0m     \u001b[1;32mif\u001b[0m \u001b[0mkeyword_index\u001b[0m \u001b[1;33m>=\u001b[0m \u001b[1;36m0\u001b[0m\u001b[1;33m:\u001b[0m\u001b[1;33m\u001b[0m\u001b[1;33m\u001b[0m\u001b[0m\n\u001b[0;32m      9\u001b[0m         \u001b[1;31m# detection event logic/callback\u001b[0m\u001b[1;33m\u001b[0m\u001b[1;33m\u001b[0m\u001b[1;33m\u001b[0m\u001b[0m\n",
      "\u001b[1;32m~\\anaconda3\\envs\\Python_3.6\\lib\\site-packages\\pvporcupine\\porcupine.py\u001b[0m in \u001b[0;36mprocess\u001b[1;34m(self, pcm)\u001b[0m\n\u001b[0;32m    127\u001b[0m         \"\"\"\n\u001b[0;32m    128\u001b[0m \u001b[1;33m\u001b[0m\u001b[0m\n\u001b[1;32m--> 129\u001b[1;33m         \u001b[1;32mif\u001b[0m \u001b[0mlen\u001b[0m\u001b[1;33m(\u001b[0m\u001b[0mpcm\u001b[0m\u001b[1;33m)\u001b[0m \u001b[1;33m!=\u001b[0m \u001b[0mself\u001b[0m\u001b[1;33m.\u001b[0m\u001b[0mframe_length\u001b[0m\u001b[1;33m:\u001b[0m\u001b[1;33m\u001b[0m\u001b[1;33m\u001b[0m\u001b[0m\n\u001b[0m\u001b[0;32m    130\u001b[0m             \u001b[1;32mraise\u001b[0m \u001b[0mValueError\u001b[0m\u001b[1;33m(\u001b[0m\u001b[1;34m\"Invalid frame length. expected %d but received %d\"\u001b[0m \u001b[1;33m%\u001b[0m \u001b[1;33m(\u001b[0m\u001b[0mself\u001b[0m\u001b[1;33m.\u001b[0m\u001b[0mframe_length\u001b[0m\u001b[1;33m,\u001b[0m \u001b[0mlen\u001b[0m\u001b[1;33m(\u001b[0m\u001b[0mpcm\u001b[0m\u001b[1;33m)\u001b[0m\u001b[1;33m)\u001b[0m\u001b[1;33m)\u001b[0m\u001b[1;33m\u001b[0m\u001b[1;33m\u001b[0m\u001b[0m\n\u001b[0;32m    131\u001b[0m \u001b[1;33m\u001b[0m\u001b[0m\n",
      "\u001b[1;31mTypeError\u001b[0m: object of type 'NoneType' has no len()"
     ]
    }
   ],
   "source": [
    "def get_next_audio_frame():\n",
    "    r = sr.Recognizer()\n",
    "    with sr.Microphone() as source:\n",
    "        audio = r.listen(source)\n",
    "\n",
    "while True:\n",
    "    keyword_index = handle.process(get_next_audio_frame())\n",
    "    if keyword_index >= 0:\n",
    "        # detection event logic/callback\n",
    "        pass"
   ]
  },
  {
   "cell_type": "code",
   "execution_count": 9,
   "metadata": {},
   "outputs": [
    {
     "data": {
      "text/plain": [
       "16000"
      ]
     },
     "execution_count": 9,
     "metadata": {},
     "output_type": "execute_result"
    }
   ],
   "source": [
    "handle.sample_rate"
   ]
  },
  {
   "cell_type": "code",
   "execution_count": 40,
   "metadata": {},
   "outputs": [
    {
     "name": "stdout",
     "output_type": "stream",
     "text": [
      "Hotword Detected\n",
      "Hotword Detected\n",
      "Hotword Detected\n",
      "Hotword Detected\n",
      "Hotword Detected\n",
      "Hotword Detected\n",
      "Hotword Detected\n",
      "Hotword Detected\n",
      "Hotword Detected\n",
      "Hotword Detected\n",
      "Hotword Detected\n",
      "Hotword Detected\n"
     ]
    },
    {
     "ename": "KeyboardInterrupt",
     "evalue": "",
     "output_type": "error",
     "traceback": [
      "\u001b[1;31m---------------------------------------------------------------------------\u001b[0m",
      "\u001b[1;31mKeyboardInterrupt\u001b[0m                         Traceback (most recent call last)",
      "\u001b[1;32m<ipython-input-40-6f67f2ca3e00>\u001b[0m in \u001b[0;36m<module>\u001b[1;34m\u001b[0m\n\u001b[0;32m     21\u001b[0m \u001b[1;33m\u001b[0m\u001b[0m\n\u001b[0;32m     22\u001b[0m     \u001b[1;32mwhile\u001b[0m \u001b[1;32mTrue\u001b[0m\u001b[1;33m:\u001b[0m\u001b[1;33m\u001b[0m\u001b[1;33m\u001b[0m\u001b[0m\n\u001b[1;32m---> 23\u001b[1;33m         \u001b[0mpcm\u001b[0m \u001b[1;33m=\u001b[0m \u001b[0maudio_stream\u001b[0m\u001b[1;33m.\u001b[0m\u001b[0mread\u001b[0m\u001b[1;33m(\u001b[0m\u001b[0mporcupine\u001b[0m\u001b[1;33m.\u001b[0m\u001b[0mframe_length\u001b[0m\u001b[1;33m)\u001b[0m\u001b[1;33m\u001b[0m\u001b[1;33m\u001b[0m\u001b[0m\n\u001b[0m\u001b[0;32m     24\u001b[0m         \u001b[0mpcm\u001b[0m \u001b[1;33m=\u001b[0m \u001b[0mstruct\u001b[0m\u001b[1;33m.\u001b[0m\u001b[0munpack_from\u001b[0m\u001b[1;33m(\u001b[0m\u001b[1;34m\"h\"\u001b[0m \u001b[1;33m*\u001b[0m \u001b[0mporcupine\u001b[0m\u001b[1;33m.\u001b[0m\u001b[0mframe_length\u001b[0m\u001b[1;33m,\u001b[0m \u001b[0mpcm\u001b[0m\u001b[1;33m)\u001b[0m\u001b[1;33m\u001b[0m\u001b[1;33m\u001b[0m\u001b[0m\n\u001b[0;32m     25\u001b[0m \u001b[1;33m\u001b[0m\u001b[0m\n",
      "\u001b[1;32m~\\anaconda3\\envs\\Python_3.6\\lib\\site-packages\\pyaudio.py\u001b[0m in \u001b[0;36mread\u001b[1;34m(self, num_frames, exception_on_overflow)\u001b[0m\n\u001b[0;32m    606\u001b[0m                           paCanNotReadFromAnOutputOnlyStream)\n\u001b[0;32m    607\u001b[0m \u001b[1;33m\u001b[0m\u001b[0m\n\u001b[1;32m--> 608\u001b[1;33m         \u001b[1;32mreturn\u001b[0m \u001b[0mpa\u001b[0m\u001b[1;33m.\u001b[0m\u001b[0mread_stream\u001b[0m\u001b[1;33m(\u001b[0m\u001b[0mself\u001b[0m\u001b[1;33m.\u001b[0m\u001b[0m_stream\u001b[0m\u001b[1;33m,\u001b[0m \u001b[0mnum_frames\u001b[0m\u001b[1;33m,\u001b[0m \u001b[0mexception_on_overflow\u001b[0m\u001b[1;33m)\u001b[0m\u001b[1;33m\u001b[0m\u001b[1;33m\u001b[0m\u001b[0m\n\u001b[0m\u001b[0;32m    609\u001b[0m \u001b[1;33m\u001b[0m\u001b[0m\n\u001b[0;32m    610\u001b[0m     \u001b[1;32mdef\u001b[0m \u001b[0mget_read_available\u001b[0m\u001b[1;33m(\u001b[0m\u001b[0mself\u001b[0m\u001b[1;33m)\u001b[0m\u001b[1;33m:\u001b[0m\u001b[1;33m\u001b[0m\u001b[1;33m\u001b[0m\u001b[0m\n",
      "\u001b[1;31mKeyboardInterrupt\u001b[0m: "
     ]
    }
   ],
   "source": [
    "import struct\n",
    "import pyaudio\n",
    "import pvporcupine\n",
    "\n",
    "porcupine = None\n",
    "pa = None\n",
    "audio_stream = None\n",
    "\n",
    "try:\n",
    "    porcupine = pvporcupine.create(keyword_paths=['Hey_Felicity.ppn'])\n",
    "\n",
    "    pa = pyaudio.PyAudio()\n",
    "\n",
    "    audio_stream = pa.open(\n",
    "                    rate=porcupine.sample_rate,\n",
    "                    channels=1,\n",
    "                    format=pyaudio.paInt16,\n",
    "                    input=True,\n",
    "                    input_device_index=1,\n",
    "                    frames_per_buffer=porcupine.frame_length)\n",
    "\n",
    "    while True:\n",
    "        pcm = audio_stream.read(porcupine.frame_length)\n",
    "        pcm = struct.unpack_from(\"h\" * porcupine.frame_length, pcm)\n",
    "\n",
    "        keyword_index = porcupine.process(pcm)\n",
    "\n",
    "        if keyword_index >= 0:\n",
    "            print(\"Hotword Detected\")\n",
    "finally:\n",
    "    if porcupine is not None:\n",
    "        porcupine.delete()\n",
    "\n",
    "    if audio_stream is not None:\n",
    "        audio_stream.close()\n",
    "\n",
    "    if pa is not None:\n",
    "            pa.terminate()"
   ]
  },
  {
   "cell_type": "code",
   "execution_count": 14,
   "metadata": {},
   "outputs": [
    {
     "name": "stdout",
     "output_type": "stream",
     "text": [
      "recording...\n",
      "finished recording\n"
     ]
    }
   ],
   "source": [
    "import pyaudio\n",
    "import wave\n",
    " \n",
    "FORMAT = pyaudio.paInt16\n",
    "CHANNELS = 1\n",
    "RATE = 44100\n",
    "CHUNK = 1024\n",
    "RECORD_SECONDS = 5\n",
    "WAVE_OUTPUT_FILENAME = \"file.wav\"\n",
    " \n",
    "audio = pyaudio.PyAudio()\n",
    " \n",
    "# start Recording\n",
    "stream = audio.open(format=FORMAT, channels=CHANNELS,\n",
    "                rate=RATE, input=True,\n",
    "                frames_per_buffer=CHUNK)\n",
    "print (\"recording...\")\n",
    "frames = []\n",
    " \n",
    "for i in range(0, int(RATE / CHUNK * RECORD_SECONDS)):\n",
    "    data = stream.read(CHUNK)\n",
    "    frames.append(data)\n",
    "print (\"finished recording\")\n",
    " \n",
    " \n",
    "# stop Recording\n",
    "stream.stop_stream()\n",
    "stream.close()\n",
    "audio.terminate()\n",
    " \n",
    "waveFile = wave.open(WAVE_OUTPUT_FILENAME, 'wb')\n",
    "waveFile.setnchannels(CHANNELS)\n",
    "waveFile.setsampwidth(audio.get_sample_size(FORMAT))\n",
    "waveFile.setframerate(RATE)\n",
    "waveFile.writeframes(b''.join(frames))\n",
    "waveFile.close()"
   ]
  },
  {
   "cell_type": "code",
   "execution_count": 15,
   "metadata": {},
   "outputs": [
    {
     "data": {
      "text/plain": [
       "{'index': 0,\n",
       " 'structVersion': 1,\n",
       " 'type': 2,\n",
       " 'name': 'MME',\n",
       " 'deviceCount': 5,\n",
       " 'defaultInputDevice': 1,\n",
       " 'defaultOutputDevice': 4}"
      ]
     },
     "execution_count": 15,
     "metadata": {},
     "output_type": "execute_result"
    }
   ],
   "source": [
    "pa = pyaudio.PyAudio()\n",
    "pa.get_default_host_api_info()"
   ]
  },
  {
   "cell_type": "code",
   "execution_count": 16,
   "metadata": {},
   "outputs": [
    {
     "name": "stdout",
     "output_type": "stream",
     "text": [
      "{'index': 0, 'structVersion': 1, 'type': 2, 'name': 'MME', 'deviceCount': 5, 'defaultInputDevice': 1, 'defaultOutputDevice': 4}\n"
     ]
    }
   ],
   "source": [
    "for id in range(pa.get_host_api_count()):\n",
    "    print(pa.get_host_api_info_by_index(id))"
   ]
  },
  {
   "cell_type": "code",
   "execution_count": 17,
   "metadata": {},
   "outputs": [
    {
     "data": {
      "text/plain": [
       "{'index': 4,\n",
       " 'structVersion': 2,\n",
       " 'name': 'Speaker/Headphone (Realtek High',\n",
       " 'hostApi': 0,\n",
       " 'maxInputChannels': 0,\n",
       " 'maxOutputChannels': 2,\n",
       " 'defaultLowInputLatency': 0.09,\n",
       " 'defaultLowOutputLatency': 0.09,\n",
       " 'defaultHighInputLatency': 0.18,\n",
       " 'defaultHighOutputLatency': 0.18,\n",
       " 'defaultSampleRate': 44100.0}"
      ]
     },
     "execution_count": 17,
     "metadata": {},
     "output_type": "execute_result"
    }
   ],
   "source": [
    "pa.get_default_output_device_info()"
   ]
  },
  {
   "cell_type": "code",
   "execution_count": 18,
   "metadata": {},
   "outputs": [
    {
     "name": "stdout",
     "output_type": "stream",
     "text": [
      "index 0\n",
      "structVersion 2\n",
      "name Microsoft Sound Mapper - Input\n",
      "hostApi 0\n",
      "maxInputChannels 2\n",
      "maxOutputChannels 0\n",
      "defaultLowInputLatency 0.09\n",
      "defaultLowOutputLatency 0.09\n",
      "defaultHighInputLatency 0.18\n",
      "defaultHighOutputLatency 0.18\n",
      "defaultSampleRate 44100.0\n",
      "index 1\n",
      "structVersion 2\n",
      "name Microphone Array (Realtek High \n",
      "hostApi 0\n",
      "maxInputChannels 2\n",
      "maxOutputChannels 0\n",
      "defaultLowInputLatency 0.09\n",
      "defaultLowOutputLatency 0.09\n",
      "defaultHighInputLatency 0.18\n",
      "defaultHighOutputLatency 0.18\n",
      "defaultSampleRate 44100.0\n",
      "index 2\n",
      "structVersion 2\n",
      "name Stereo Mix (Realtek High Defini\n",
      "hostApi 0\n",
      "maxInputChannels 2\n",
      "maxOutputChannels 0\n",
      "defaultLowInputLatency 0.09\n",
      "defaultLowOutputLatency 0.09\n",
      "defaultHighInputLatency 0.18\n",
      "defaultHighOutputLatency 0.18\n",
      "defaultSampleRate 44100.0\n",
      "index 3\n",
      "structVersion 2\n",
      "name Microsoft Sound Mapper - Output\n",
      "hostApi 0\n",
      "maxInputChannels 0\n",
      "maxOutputChannels 2\n",
      "defaultLowInputLatency 0.09\n",
      "defaultLowOutputLatency 0.09\n",
      "defaultHighInputLatency 0.18\n",
      "defaultHighOutputLatency 0.18\n",
      "defaultSampleRate 44100.0\n",
      "index 4\n",
      "structVersion 2\n",
      "name Speaker/Headphone (Realtek High\n",
      "hostApi 0\n",
      "maxInputChannels 0\n",
      "maxOutputChannels 2\n",
      "defaultLowInputLatency 0.09\n",
      "defaultLowOutputLatency 0.09\n",
      "defaultHighInputLatency 0.18\n",
      "defaultHighOutputLatency 0.18\n",
      "defaultSampleRate 44100.0\n"
     ]
    }
   ],
   "source": [
    "for id in range(pa.get_device_count()):\n",
    "  dev_dict = pa.get_device_info_by_index(id)\n",
    "  for key, value in dev_dict.items():\n",
    "      print(key, value)"
   ]
  },
  {
   "cell_type": "code",
   "execution_count": 39,
   "metadata": {},
   "outputs": [],
   "source": [
    "import wave\n",
    "wav_file = wave.open('file.wav')\n",
    "\n",
    "stream_out = pa.open(\n",
    "    rate=wav_file.getframerate(),     # sampling rate\n",
    "    channels=wav_file.getnchannels(), # number of output channels\n",
    "    format=pa.get_format_from_width(wav_file.getsampwidth()),  # sample format and length\n",
    "    output=True,             # output stream flag\n",
    "    output_device_index=4,   # output device index\n",
    "    frames_per_buffer=1024,  # buffer length\n",
    ")\n",
    "\n",
    "output_audio = wav_file.readframes(5 * wav_file.getframerate())\n",
    "stream_out.write(output_audio)"
   ]
  },
  {
   "cell_type": "code",
   "execution_count": 38,
   "metadata": {},
   "outputs": [],
   "source": [
    "stream_in = pa.open(\n",
    "    rate=16000,\n",
    "    channels=2,\n",
    "    format=pyaudio.paInt16,\n",
    "    input=True,                   # input stream flag\n",
    "    input_device_index=1,         # input device index\n",
    "    frames_per_buffer=porcupine.frame_length\n",
    ")\n",
    "\n",
    "# read 5 seconds of the input stream\n",
    "input_audio = stream_in.read(5 * 16000)\n",
    "\n",
    "output_filename = 'file.wav'\n",
    "wav_file = wave.open(output_filename, 'wb')\n",
    "\n",
    "# define audio stream properties\n",
    "wav_file.setnchannels(2)        # number of channels\n",
    "wav_file.setsampwidth(2)        # sample width in bytes\n",
    "wav_file.setframerate(16000)    # sampling rate in Hz\n",
    "\n",
    "# write samples to the file\n",
    "wav_file.writeframes(input_audio)"
   ]
  },
  {
   "cell_type": "code",
   "execution_count": null,
   "metadata": {},
   "outputs": [],
   "source": [
    "rate=porcupine.sample_rate,\n",
    "                    channels=1,\n",
    "                    format=pyaudio.paInt16,\n",
    "                    input=True,\n",
    "                    frames_per_buffer=porcupine.frame_length"
   ]
  },
  {
   "cell_type": "code",
   "execution_count": 24,
   "metadata": {},
   "outputs": [
    {
     "data": {
      "text/plain": [
       "16000"
      ]
     },
     "execution_count": 24,
     "metadata": {},
     "output_type": "execute_result"
    }
   ],
   "source": [
    "porcupine.sample_rate"
   ]
  },
  {
   "cell_type": "code",
   "execution_count": null,
   "metadata": {},
   "outputs": [],
   "source": []
  }
 ],
 "metadata": {
  "kernelspec": {
   "display_name": "Python 3",
   "language": "python",
   "name": "python3"
  },
  "language_info": {
   "codemirror_mode": {
    "name": "ipython",
    "version": 3
   },
   "file_extension": ".py",
   "mimetype": "text/x-python",
   "name": "python",
   "nbconvert_exporter": "python",
   "pygments_lexer": "ipython3",
   "version": "3.6.12"
  }
 },
 "nbformat": 4,
 "nbformat_minor": 4
}
